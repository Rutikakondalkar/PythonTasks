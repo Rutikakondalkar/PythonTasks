{
  "nbformat": 4,
  "nbformat_minor": 0,
  "metadata": {
    "colab": {
      "provenance": [],
      "authorship_tag": "ABX9TyPexb4oDlXdoXMgRIAvEbNW",
      "include_colab_link": true
    },
    "kernelspec": {
      "name": "python3",
      "display_name": "Python 3"
    },
    "language_info": {
      "name": "python"
    }
  },
  "cells": [
    {
      "cell_type": "markdown",
      "metadata": {
        "id": "view-in-github",
        "colab_type": "text"
      },
      "source": [
        "<a href=\"https://colab.research.google.com/github/Rutikakondalkar/PythonTasks/blob/main/PythonTask2.ipynb\" target=\"_parent\"><img src=\"https://colab.research.google.com/assets/colab-badge.svg\" alt=\"Open In Colab\"/></a>"
      ]
    },
    {
      "cell_type": "code",
      "execution_count": 1,
      "metadata": {
        "colab": {
          "base_uri": "https://localhost:8080/"
        },
        "id": "_oIhWSKl-gPY",
        "outputId": "2926d65b-9aa0-4a2b-88d1-05b69e3dc1e4"
      },
      "outputs": [
        {
          "output_type": "stream",
          "name": "stdout",
          "text": [
            "Requirement already satisfied: pandas in /usr/local/lib/python3.11/dist-packages (2.2.2)\n",
            "Requirement already satisfied: matplotlib in /usr/local/lib/python3.11/dist-packages (3.10.0)\n",
            "Collecting reportlab\n",
            "  Downloading reportlab-4.4.3-py3-none-any.whl.metadata (1.7 kB)\n",
            "Collecting fpdf\n",
            "  Downloading fpdf-1.7.2.tar.gz (39 kB)\n",
            "  Preparing metadata (setup.py) ... \u001b[?25l\u001b[?25hdone\n",
            "Requirement already satisfied: numpy>=1.23.2 in /usr/local/lib/python3.11/dist-packages (from pandas) (2.0.2)\n",
            "Requirement already satisfied: python-dateutil>=2.8.2 in /usr/local/lib/python3.11/dist-packages (from pandas) (2.9.0.post0)\n",
            "Requirement already satisfied: pytz>=2020.1 in /usr/local/lib/python3.11/dist-packages (from pandas) (2025.2)\n",
            "Requirement already satisfied: tzdata>=2022.7 in /usr/local/lib/python3.11/dist-packages (from pandas) (2025.2)\n",
            "Requirement already satisfied: contourpy>=1.0.1 in /usr/local/lib/python3.11/dist-packages (from matplotlib) (1.3.3)\n",
            "Requirement already satisfied: cycler>=0.10 in /usr/local/lib/python3.11/dist-packages (from matplotlib) (0.12.1)\n",
            "Requirement already satisfied: fonttools>=4.22.0 in /usr/local/lib/python3.11/dist-packages (from matplotlib) (4.59.0)\n",
            "Requirement already satisfied: kiwisolver>=1.3.1 in /usr/local/lib/python3.11/dist-packages (from matplotlib) (1.4.9)\n",
            "Requirement already satisfied: packaging>=20.0 in /usr/local/lib/python3.11/dist-packages (from matplotlib) (25.0)\n",
            "Requirement already satisfied: pillow>=8 in /usr/local/lib/python3.11/dist-packages (from matplotlib) (11.3.0)\n",
            "Requirement already satisfied: pyparsing>=2.3.1 in /usr/local/lib/python3.11/dist-packages (from matplotlib) (3.2.3)\n",
            "Requirement already satisfied: charset-normalizer in /usr/local/lib/python3.11/dist-packages (from reportlab) (3.4.3)\n",
            "Requirement already satisfied: six>=1.5 in /usr/local/lib/python3.11/dist-packages (from python-dateutil>=2.8.2->pandas) (1.17.0)\n",
            "Downloading reportlab-4.4.3-py3-none-any.whl (2.0 MB)\n",
            "\u001b[2K   \u001b[90m━━━━━━━━━━━━━━━━━━━━━━━━━━━━━━━━━━━━━━━━\u001b[0m \u001b[32m2.0/2.0 MB\u001b[0m \u001b[31m67.6 MB/s\u001b[0m eta \u001b[36m0:00:00\u001b[0m\n",
            "\u001b[?25hBuilding wheels for collected packages: fpdf\n",
            "  Building wheel for fpdf (setup.py) ... \u001b[?25l\u001b[?25hdone\n",
            "  Created wheel for fpdf: filename=fpdf-1.7.2-py2.py3-none-any.whl size=40704 sha256=67f0ee898ba2dc2aa09d0c547da8b5c902706b4330c0586a80b7d0740e5a51b1\n",
            "  Stored in directory: /root/.cache/pip/wheels/65/4f/66/bbda9866da446a72e206d6484cd97381cbc7859a7068541c36\n",
            "Successfully built fpdf\n",
            "Installing collected packages: fpdf, reportlab\n",
            "Successfully installed fpdf-1.7.2 reportlab-4.4.3\n"
          ]
        }
      ],
      "source": [
        "!pip install pandas matplotlib reportlab fpdf\n"
      ]
    },
    {
      "cell_type": "code",
      "source": [
        "import pandas as pd\n",
        "\n",
        "# Load dataset (use your file path)\n",
        "# Make sure 'data.csv' is in the correct directory or provide the full path.\n",
        "# You can check the files in your Colab environment by clicking the folder icon on the left sidebar.\n",
        "try:\n",
        "    data = pd.read_csv(\"data.csv\")\n",
        "\n",
        "    # Basic analysis\n",
        "    summary = data.describe()\n",
        "    print(\"Data loaded successfully. Here is the summary:\")\n",
        "    print(summary)\n",
        "\n",
        "except FileNotFoundError:\n",
        "    print(\"Error: 'data.csv' not found. Please check the file path.\")\n",
        "    print(\"Make sure the file is in the correct location or provide the full path.\")"
      ],
      "metadata": {
        "colab": {
          "base_uri": "https://localhost:8080/"
        },
        "id": "04kHZvSK_RLA",
        "outputId": "c27d8ac5-d4be-4e09-b853-58f16b9c09b7"
      },
      "execution_count": 4,
      "outputs": [
        {
          "output_type": "stream",
          "name": "stdout",
          "text": [
            "Error: 'data.csv' not found. Please check the file path.\n",
            "Make sure the file is in the correct location or provide the full path.\n"
          ]
        }
      ]
    },
    {
      "cell_type": "code",
      "source": [
        "import matplotlib.pyplot as plt\n",
        "import pandas as pd # Import pandas to check if data is a DataFrame\n",
        "\n",
        "# Check if 'data' is a pandas DataFrame\n",
        "if 'data' in locals() and isinstance(data, pd.DataFrame):\n",
        "    # Replace 'your_column_name' with the actual column name you want to plot\n",
        "    column_to_plot = 'your_column_name'\n",
        "\n",
        "    if column_to_plot in data.columns:\n",
        "        plt.figure(figsize=(6,4))\n",
        "        data[column_to_plot].value_counts().plot(kind='bar')\n",
        "        plt.title(f\"Distribution of {column_to_plot}\")\n",
        "        plt.xlabel(column_to_plot)\n",
        "        plt.ylabel(\"Count\")\n",
        "        plt.savefig(\"chart.png\")   # Save chart to include in PDF\n",
        "        plt.close()\n",
        "        print(f\"Chart saved as chart.png showing distribution of '{column_to_plot}'.\")\n",
        "    else:\n",
        "        print(f\"Error: Column '{column_to_plot}' not found in the DataFrame.\")\n",
        "        print(\"Please replace 'your_column_name' with a valid column name from your data.\")\n",
        "else:\n",
        "    print(\"Error: 'data' DataFrame is not defined. Please run the cell to load the data first.\")"
      ],
      "metadata": {
        "colab": {
          "base_uri": "https://localhost:8080/"
        },
        "id": "OgIfeOK0__Dv",
        "outputId": "7e5d5eac-adec-44b0-9642-dbc4f998a380"
      },
      "execution_count": 7,
      "outputs": [
        {
          "output_type": "stream",
          "name": "stdout",
          "text": [
            "Error: 'data' DataFrame is not defined. Please run the cell to load the data first.\n"
          ]
        }
      ]
    },
    {
      "cell_type": "code",
      "source": [
        "from reportlab.lib.pagesizes import A4\n",
        "from reportlab.pdfgen import canvas\n",
        "from reportlab.platypus import SimpleDocTemplate, Paragraph, Spacer, Image\n",
        "from reportlab.lib.styles import getSampleStyleSheet\n",
        "import os # Import the os module\n",
        "\n",
        "# Create PDF\n",
        "pdf_file = \"report.pdf\"\n",
        "doc = SimpleDocTemplate(pdf_file, pagesize=A4)\n",
        "styles = getSampleStyleSheet()\n",
        "elements = []\n",
        "\n",
        "# Title\n",
        "elements.append(Paragraph(\"Automated Report\", styles['Title']))\n",
        "elements.append(Spacer(1, 20))\n",
        "\n",
        "# Add summary\n",
        "if 'summary' in locals():\n",
        "    elements.append(Paragraph(\"Data Summary:\", styles['Heading2']))\n",
        "    elements.append(Paragraph(summary.to_string(), styles['Normal']))\n",
        "    elements.append(Spacer(1, 20))\n",
        "else:\n",
        "    elements.append(Paragraph(\"Data summary not available.\", styles['Normal']))\n",
        "    elements.append(Spacer(1, 20))\n",
        "\n",
        "# Add chart\n",
        "if 'chart.png' in os.listdir(): # Check if chart file exists\n",
        "    elements.append(Paragraph(\"Visualization:\", styles['Heading2']))\n",
        "    elements.append(Image(\"chart.png\", width=400, height=200))\n",
        "    elements.append(Spacer(1, 20))\n",
        "else:\n",
        "    elements.append(Paragraph(\"Chart not available.\", styles['Normal']))\n",
        "    elements.append(Spacer(1, 20))\n",
        "\n",
        "\n",
        "# Build PDF\n",
        "doc.build(elements)\n",
        "print(\"Report generated successfully!\")"
      ],
      "metadata": {
        "colab": {
          "base_uri": "https://localhost:8080/"
        },
        "id": "oQ6hmbRcAKsk",
        "outputId": "d182365a-b85d-4f5f-dc35-06276a849c48"
      },
      "execution_count": 12,
      "outputs": [
        {
          "output_type": "stream",
          "name": "stdout",
          "text": [
            "Report generated successfully!\n"
          ]
        }
      ]
    },
    {
      "cell_type": "code",
      "source": [
        "from fpdf import FPDF\n",
        "from IPython.display import IFrame\n",
        "\n",
        "# Create PDF\n",
        "pdf = FPDF()\n",
        "pdf.add_page()\n",
        "\n",
        "pdf.set_font(\"Arial\", 'B', 16)\n",
        "pdf.cell(200, 10, \"Automated Report\", ln=True, align='C')\n",
        "\n",
        "pdf.set_font(\"Arial\", size=12)\n",
        "pdf.cell(200, 10, \"Generated using Python Internship Task\", ln=True, align='C')\n",
        "\n",
        "pdf.ln(10)\n",
        "pdf.set_font(\"Arial\", 'B', 14)\n",
        "pdf.cell(200, 10, \"Data Summary:\", ln=True)\n",
        "\n",
        "data = [\n",
        "    \"Total Rows: 100\",\n",
        "    \"Average Age: 29.4\",\n",
        "    \"Max Salary: 95000\",\n",
        "    \"Min Salary: 15000\"\n",
        "]\n",
        "\n",
        "pdf.set_font(\"Arial\", size=12)\n",
        "for line in data:\n",
        "    pdf.cell(200, 10, line, ln=True)\n",
        "\n",
        "# Save PDF in Colab environment\n",
        "pdf_file = \"report.pdf\"\n",
        "pdf.output(pdf_file)\n",
        "\n",
        "# Show PDF inside notebook\n",
        "IFrame(pdf_file, width=600, height=400)\n"
      ],
      "metadata": {
        "colab": {
          "base_uri": "https://localhost:8080/",
          "height": 422
        },
        "id": "MnF_KMMFBYHs",
        "outputId": "ad33c7c4-2e32-49bf-e1e3-f913751d6fd1"
      },
      "execution_count": 16,
      "outputs": [
        {
          "output_type": "execute_result",
          "data": {
            "text/plain": [
              "<IPython.lib.display.IFrame at 0x7aecf4997790>"
            ],
            "text/html": [
              "\n",
              "        <iframe\n",
              "            width=\"600\"\n",
              "            height=\"400\"\n",
              "            src=\"report.pdf\"\n",
              "            frameborder=\"0\"\n",
              "            allowfullscreen\n",
              "            \n",
              "        ></iframe>\n",
              "        "
            ]
          },
          "metadata": {},
          "execution_count": 16
        }
      ]
    },
    {
      "cell_type": "code",
      "source": [
        "from fpdf import FPDF\n",
        "from IPython.display import IFrame\n",
        "\n",
        "# Create PDF\n",
        "pdf = FPDF()\n",
        "pdf.add_page()\n",
        "\n",
        "pdf.set_font(\"Arial\", 'B', 16)\n",
        "pdf.cell(200, 10, \"Automated Report\", ln=True, align='C')\n",
        "\n",
        "pdf.set_font(\"Arial\", size=12)\n",
        "pdf.cell(200, 10, \"Generated using Python Internship Task\", ln=True, align='C')\n",
        "\n",
        "pdf.ln(10)\n",
        "pdf.set_font(\"Arial\", 'B', 14)\n",
        "pdf.cell(200, 10, \"Data Summary:\", ln=True)\n",
        "\n",
        "data = [\n",
        "    \"Total Rows: 100\",\n",
        "    \"Average Age: 29.4\",\n",
        "    \"Max Salary: 95000\",\n",
        "    \"Min Salary: 15000\"\n",
        "]\n",
        "\n",
        "pdf.set_font(\"Arial\", size=12)\n",
        "for line in data:\n",
        "    pdf.cell(200, 10, line, ln=True)\n",
        "\n",
        "# Save PDF\n",
        "pdf_file = \"report.pdf\"\n",
        "pdf.output(pdf_file)\n",
        "\n",
        "# ✅ Show PDF inline in Colab\n",
        "IFrame(pdf_file, width=600, height=400)\n"
      ],
      "metadata": {
        "colab": {
          "base_uri": "https://localhost:8080/",
          "height": 422
        },
        "id": "M45agTDRBmyL",
        "outputId": "5ef70c65-b174-4f67-be1d-7c8e52b1ec2e"
      },
      "execution_count": 17,
      "outputs": [
        {
          "output_type": "execute_result",
          "data": {
            "text/plain": [
              "<IPython.lib.display.IFrame at 0x7aecf52b9b50>"
            ],
            "text/html": [
              "\n",
              "        <iframe\n",
              "            width=\"600\"\n",
              "            height=\"400\"\n",
              "            src=\"report.pdf\"\n",
              "            frameborder=\"0\"\n",
              "            allowfullscreen\n",
              "            \n",
              "        ></iframe>\n",
              "        "
            ]
          },
          "metadata": {},
          "execution_count": 17
        }
      ]
    },
    {
      "cell_type": "code",
      "source": [
        "from google.colab import files\n",
        "files.download(\"report.pdf\")\n"
      ],
      "metadata": {
        "colab": {
          "base_uri": "https://localhost:8080/",
          "height": 17
        },
        "id": "z69F7oMqBqhI",
        "outputId": "0e8fee56-8623-4deb-f54b-c088f7b71500"
      },
      "execution_count": 18,
      "outputs": [
        {
          "output_type": "display_data",
          "data": {
            "text/plain": [
              "<IPython.core.display.Javascript object>"
            ],
            "application/javascript": [
              "\n",
              "    async function download(id, filename, size) {\n",
              "      if (!google.colab.kernel.accessAllowed) {\n",
              "        return;\n",
              "      }\n",
              "      const div = document.createElement('div');\n",
              "      const label = document.createElement('label');\n",
              "      label.textContent = `Downloading \"${filename}\": `;\n",
              "      div.appendChild(label);\n",
              "      const progress = document.createElement('progress');\n",
              "      progress.max = size;\n",
              "      div.appendChild(progress);\n",
              "      document.body.appendChild(div);\n",
              "\n",
              "      const buffers = [];\n",
              "      let downloaded = 0;\n",
              "\n",
              "      const channel = await google.colab.kernel.comms.open(id);\n",
              "      // Send a message to notify the kernel that we're ready.\n",
              "      channel.send({})\n",
              "\n",
              "      for await (const message of channel.messages) {\n",
              "        // Send a message to notify the kernel that we're ready.\n",
              "        channel.send({})\n",
              "        if (message.buffers) {\n",
              "          for (const buffer of message.buffers) {\n",
              "            buffers.push(buffer);\n",
              "            downloaded += buffer.byteLength;\n",
              "            progress.value = downloaded;\n",
              "          }\n",
              "        }\n",
              "      }\n",
              "      const blob = new Blob(buffers, {type: 'application/binary'});\n",
              "      const a = document.createElement('a');\n",
              "      a.href = window.URL.createObjectURL(blob);\n",
              "      a.download = filename;\n",
              "      div.appendChild(a);\n",
              "      a.click();\n",
              "      div.remove();\n",
              "    }\n",
              "  "
            ]
          },
          "metadata": {}
        },
        {
          "output_type": "display_data",
          "data": {
            "text/plain": [
              "<IPython.core.display.Javascript object>"
            ],
            "application/javascript": [
              "download(\"download_ce6c0cb1-a975-477b-b1b9-6fe1da0771b5\", \"report.pdf\", 1256)"
            ]
          },
          "metadata": {}
        }
      ]
    }
  ]
}